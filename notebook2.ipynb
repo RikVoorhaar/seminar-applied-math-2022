{
 "cells": [
  {
   "cell_type": "markdown",
   "metadata": {},
   "source": [
    "# Notebook 2: quantum circuits in cirq\n",
    "\n",
    "In this notebook we'll be looking at quantum circuits with multiple qubits, and what kind of simulations we can do with them. "
   ]
  },
  {
   "cell_type": "markdown",
   "metadata": {},
   "source": [
    "## Multiple qubits\n",
    "\n",
    "In the last notebook we only saw single qubit gates, but gates with multiple qubits are also very easy to implement in Cirq. For example, below we implement a `CNOT` gate surrounded by two `X` gates. As shown in fig. 4.11 in the book, this is equivalent to a controlled gate conditioned on the first qubit being in the state `0` instead of `1`, a fact we can also verify."
   ]
  },
  {
   "cell_type": "code",
   "execution_count": null,
   "metadata": {},
   "outputs": [],
   "source": [
    "import numpy as np\n",
    "\n",
    "# Import cirq, install it if it's not installed.\n",
    "try:\n",
    "    import cirq\n",
    "except ImportError:\n",
    "    print(\"installing cirq...\")\n",
    "    !pip install --quiet cirq\n",
    "    print(\"installed cirq.\")\n",
    "    import cirq"
   ]
  },
  {
   "cell_type": "code",
   "execution_count": null,
   "metadata": {},
   "outputs": [],
   "source": [
    "# Create two qubits\n",
    "qubit1 = cirq.NamedQubit(\"qubit1\")\n",
    "qubit2 = cirq.NamedQubit(\"qubit2\")\n",
    "\n",
    "# Create the cicruit step by step\n",
    "circuit = cirq.Circuit()\n",
    "circuit.append(cirq.X(qubit1))\n",
    "circuit.append(cirq.CNOT(qubit1, qubit2))\n",
    "circuit.append(cirq.X(qubit1))\n",
    "print(circuit)"
   ]
  },
  {
   "cell_type": "markdown",
   "metadata": {},
   "source": [
    "We get a little text-based schematic of the circuit. Note that the `CNOT` gate is displayed like `@ -- X`. The `@` denotes a control qubit, meaning that this is a controlled-`X` gate, but this is exactly what a `CNOT` gate is.\n",
    "\n",
    "Let's simulate this circuit and see what it does:"
   ]
  },
  {
   "cell_type": "code",
   "execution_count": null,
   "metadata": {},
   "outputs": [],
   "source": [
    "simulator = cirq.Simulator()\n",
    "result = simulator.simulate(circuit)\n",
    "\n",
    "print(\"\\nOutput state:\")\n",
    "result.state_vector()"
   ]
  },
  {
   "cell_type": "markdown",
   "metadata": {},
   "source": [
    "We get an output state of `[0,1,0,0]`, corresponding to the state $|01\\rangle$. This is because if we don't specify anything, `cirq` assumes that all qubits are in the state $|0\\rangle$. To change the input state, we can use the `initial_state` parameter as shown below. Here `0b01` represents the state $|01\\rangle$, but this is completely equivalent to writing 1. You can convert from an integer `n` to a binary string using `bin(n)`.\n",
    "\n",
    "We can convert from a vectorial representation to a bra-ket (Dirac) notation using `cirq.qis.dirac_noation`, or we can call the `diract_notation()` method of the simulator directly.\n"
   ]
  },
  {
   "cell_type": "code",
   "execution_count": null,
   "metadata": {},
   "outputs": [],
   "source": [
    "result = simulator.simulate(circuit, initial_state=0b01)\n",
    "print(\"Output state:\", result.dirac_notation())"
   ]
  },
  {
   "cell_type": "markdown",
   "metadata": {},
   "source": [
    "When creating multiple circuits, we can reuse the same qubits. The same `Simulator` object can also be used to simulate different circuits. For example, below we implement a simple circuit that uses three qubits, reusing the qubits `qubit1` and `qubit2` from the previous circuit."
   ]
  },
  {
   "cell_type": "code",
   "execution_count": null,
   "metadata": {},
   "outputs": [],
   "source": [
    "qubit3 = cirq.NamedQubit(\"qubit3\")\n",
    "\n",
    "other_circuit = cirq.Circuit()\n",
    "other_circuit.append([cirq.X(qubit1), cirq.S(qubit2), cirq.X(qubit3)])\n",
    "other_circuit.append([cirq.CNOT(qubit1,qubit2), cirq.H(qubit3)])\n",
    "print(other_circuit)\n",
    "\n",
    "simulator.simulate(other_circuit, initial_state=0b110).dirac_notation()"
   ]
  },
  {
   "cell_type": "markdown",
   "metadata": {},
   "source": [
    "Note that here we use added three gates in parallel, since these three qubits act independently on different qubits. We can also use 3 separate calls to the `other_circuit.append` method to add gates in sequence, but this would use 3 lines of code instead of one. "
   ]
  },
  {
   "cell_type": "markdown",
   "metadata": {},
   "source": [
    "### Exercise 1\n",
    "> Implement the two circuits shown in exercise 4.20 in the book. They are shown below as well. \n",
    "> The code below then simulates these two circuits for several several initial states and prints the results. Be sure to use the names `circuit1` and `circuit2` for the two circuits.\n",
    "\n",
    "\n",
    "Circuit 1:  \n",
    "```\n",
    "qubit1: ───H───@───H───\n",
    "               │\n",
    "qubit2: ───H───X───H───\n",
    "```\n",
    "\n",
    "Circuit 2:  \n",
    "```\n",
    "qubit1: ───X───\n",
    "           │\n",
    "qubit2: ───@───\n",
    "```"
   ]
  },
  {
   "cell_type": "code",
   "execution_count": null,
   "metadata": {},
   "outputs": [],
   "source": [
    "# YOUR CODE HERE\n",
    "\n",
    "print(\"\\n\"+\"-\"*20)\n",
    "for state in range(4):\n",
    "    res1 = simulator.simulate(circuit1, initial_state=state).dirac_notation()\n",
    "    res2 = simulator.simulate(circuit2, initial_state=state).dirac_notation()\n",
    "    print(f\"Input: |{state:02b}>. Output1: {res1}, output2: {res2}\")"
   ]
  },
  {
   "cell_type": "markdown",
   "metadata": {},
   "source": [
    "## Moments in the circuit\n",
    "\n",
    "To understand what a quantum circuit does, it is useful to see what happens to the input state at every moment (step) in the circuit. To do this, we can use the `simulate_moment_steps` method. This returns an iterator that yields a simulation of every moment in the circuit.\n",
    "\n",
    "Let's see it in action for the circuit shown in figure 4.8, which implements the Toffoli gate using a controlled $V$-gate, where $V$ is such that $V^2=X$. The gate $V$ can be implemented in `cirq` by using `V = cirq.X**(1/2)`. To make a controlled version of a gate (conditioned on `n` qubits), we can call `V.controlled(n)`. The controlled $V^\\dagger$ gate is then simply `controlled_V**(-1)`."
   ]
  },
  {
   "cell_type": "code",
   "execution_count": null,
   "metadata": {},
   "outputs": [],
   "source": [
    "circuit = cirq.Circuit()\n",
    "\n",
    "V = cirq.X**(1/2)\n",
    "controlled_V = V.controlled(1)\n",
    "circuit.append([controlled_V(qubit2,qubit3)])\n",
    "circuit.append([cirq.CNOT(qubit1, qubit2)])\n",
    "circuit.append([(controlled_V**(-1))(qubit2,qubit3)])\n",
    "circuit.append([cirq.CNOT(qubit1, qubit2)])\n",
    "circuit.append([controlled_V(qubit1,qubit3)])\n",
    "\n",
    "circuit"
   ]
  },
  {
   "cell_type": "markdown",
   "metadata": {},
   "source": [
    "Now let's see what happens at every step in the circuit for the state $|110\\rangle$. (Try changing the input state and see what happens.)"
   ]
  },
  {
   "cell_type": "code",
   "execution_count": null,
   "metadata": {},
   "outputs": [],
   "source": [
    "step_num = 1\n",
    "moments = simulator.simulate_moment_steps(circuit, initial_state=0b110)\n",
    "for step in moments:\n",
    "    print(f\"State at moment t{step_num}: {step.dirac_notation()}\")\n",
    "    step_num += 1"
   ]
  },
  {
   "cell_type": "markdown",
   "metadata": {},
   "source": [
    "### Exercise 2\n",
    "> Implement the circuit shown in figure 4.9, which implements the Toffoli gate. It is shown below as well. Recall that we can for example create the gate $T^\\dagger$ using `(cirq.T**-1)`.  \n",
    "> Simulate what happens in the circuit at every moment using $|110\\rangle$ as the input state.\n",
    "\n",
    "\n",
    "Circuit3\n",
    "```\n",
    "qubit1: ──────────────────@──────────────────@───@──────────@───T───\n",
    "                          │                  │   │          │\n",
    "qubit2: ───────@──────────┼───────@───T^-1───┼───X───T^-1───X───S───\n",
    "               │          │       │          │\n",
    "qubit3: ───H───X───T^-1───X───T───X───T^-1───X───T───H──────────────\n",
    "```"
   ]
  },
  {
   "cell_type": "code",
   "execution_count": null,
   "metadata": {},
   "outputs": [],
   "source": [
    "# YOUR CODE HERE"
   ]
  },
  {
   "cell_type": "markdown",
   "metadata": {},
   "source": [
    "## Universal quantum gates\n",
    "\n",
    "This week we saw that we can approximate _any_ quantum circuit using just the $H$, $T$ (also called $\\pi/8$-gate) and `CNOT` gate. This proof works in three stages:\n",
    "1. Any circuit can be reduced to a sequence of _two-level_ operations\n",
    "2. Any two-level operation can be implemented using `CNOT` and single qubit gates\n",
    "3. Any single-qubit gate can be approximated using the $H$ and $T$ gates only.\n",
    "\n",
    "In this part we'll be looking at the third part in some more detail. As first step recall that we can write _up to a phase_,\n",
    "$$\n",
    "    THTH = R_{\\hat n}(\\theta)\n",
    "$$\n",
    "where $\\theta$ satisfies $\\cos(\\theta/2) = \\cos(\\pi/8)^2$, and $\\hat n = (\\cos \\pi/8,\\sin\\pi/8,\\cos\\pi/8)$ (up to normalization). Let's first verify this numerically, and figure out what this phase is."
   ]
  },
  {
   "cell_type": "code",
   "execution_count": null,
   "metadata": {},
   "outputs": [],
   "source": [
    "from scipy.linalg import expm  # matrix exponential\n",
    "\n",
    "H = cirq.H._unitary_()\n",
    "T = cirq.T._unitary_()\n",
    "mat1 = T @ H @ T @ H\n",
    "print(\"THTH:\")\n",
    "print(mat1)\n",
    "\n",
    "theta = 2 * np.arccos(np.cos(np.pi / 8) ** 2)\n",
    "n_hat = np.array([np.cos(np.pi / 8), np.sin(np.pi / 8), np.cos(np.pi / 8)])\n",
    "n_hat = n_hat / np.linalg.norm(n_hat)\n",
    "\n",
    "n_hat_bloch = (\n",
    "    n_hat[0] * cirq.X + n_hat[1] * cirq.Y + n_hat[2] * cirq.Z\n",
    ")._unitary_()\n",
    "\n",
    "# Rotation around the n_hat axis in Bloch sphere with angle theta\n",
    "mat2 = expm(-0.5j * theta * n_hat_bloch)\n",
    "print(\"\\nR_n(theta):\")\n",
    "print(mat2)\n",
    "\n",
    "print(\"\\nmat1/mat2:\")\n",
    "print(mat1/mat2)\n"
   ]
  },
  {
   "cell_type": "markdown",
   "metadata": {},
   "source": [
    "We confirm that indeed $THTH = e^{i\\pi/4}R_{\\hat n}(\\theta)$ with the global phase factor $e^{i\\pi/4}=\\sqrt 2+i\\sqrt 2$. \n",
    "\n",
    "Next, for any $\\alpha$ and $\\epsilon>0$ we can always find a $n$ such that\n",
    "$$\n",
    "    E(R_{\\hat n}(\\alpha),R_{\\hat n}(\\theta)^n) < \\epsilon\n",
    "$$\n",
    "\n",
    "Let's verify this fact. For example, let $\\alpha = 1$, then we can just enumerate values of $n$ until we an approximation that is good enough. Let's call the matrix $R_{\\hat n}(\\theta)=U$."
   ]
  },
  {
   "cell_type": "code",
   "execution_count": null,
   "metadata": {},
   "outputs": [],
   "source": [
    "# The matrix U\n",
    "U = expm(-0.5j * theta * n_hat_bloch)\n",
    "\n",
    "# The matrix we want to approximate\n",
    "eps = 1e-4\n",
    "alpha = 1.0\n",
    "target = expm(-0.5j * alpha * n_hat_bloch)\n",
    "\n",
    "# Try different values of n, until U**n is close enough to target\n",
    "error = np.inf\n",
    "n = 0\n",
    "U_power = np.eye(2)  # Initialize with identity matrix\n",
    "while error > eps:\n",
    "    U_power = U_power @ U\n",
    "    n += 1\n",
    "\n",
    "    # np.linalg.norm(..., ord=np.inf) is the operator norm. It's not really\n",
    "    # important which norm we choose, but this is what the book does.\n",
    "    error = np.linalg.norm(U_power - target, ord=np.inf)\n",
    "\n",
    "print(\"n =\", n)\n",
    "print(\"error:\", error)\n",
    "\n",
    "# Show the difference between U**n and target\n",
    "np.linalg.matrix_power(U, n) - target"
   ]
  },
  {
   "cell_type": "markdown",
   "metadata": {},
   "source": [
    "As we see it takes 55,939 steps to find a decent approximation! In the end the error is still $2.8\\times 10^{-5}$, which is, depending on what we want to achieve, not necessarily a good approximation. The point here is that while we _can_ approximate $R_{\\hat n}(\\alpha)$ for any $\\alpha$, it may be extremely expensive to do so. \n",
    "\n",
    "\n",
    "As shown in equation (4.81) in the book, we can approximate _any_ single qubit unitary gate using the following expression:\n",
    "$$\n",
    "    M(n_1,n_2,n_3) := R_{\\hat n}(\\theta)^{n_1}HR_{\\hat n}(\\theta)^{n_2}HR_{\\hat n}(\\theta)^{n_3}\n",
    "$$\n",
    "\n",
    "for $n_1,n_2,n_3$ positive integers. Let's see how we can use this fact in practice to approximate single qubit gates.\n",
    "\n",
    "### Exercise 3a\n",
    "> Implement a function `M(n1, n2, n3)` that returns the matrix corresponding to the unitary gate $M(n_1,n_2,n_3)$. It should pass the `assert` tests below. \n",
    "\n",
    "Be careful that `U**n` does _not_compute the matrix power of `U`, but rather raises each entry of `U` to the power `n`. Use `np.linalg.matrix_power(U, n)` instead."
   ]
  },
  {
   "cell_type": "code",
   "execution_count": null,
   "metadata": {},
   "outputs": [],
   "source": [
    "U = expm(-0.5j * theta * n_hat_bloch)\n",
    "def M(n1, n2, n3):\n",
    "    # YOUR CODE HERE\n",
    "    pass\n",
    "\n",
    "\n",
    "# Tests to verify your function is correct.\n",
    "arr10_3_5 = np.array(\n",
    "    [\n",
    "        [-0.75773528 + 0.49766823j, -0.37152411 + 0.20033327j],\n",
    "        [0.37152411 + 0.20033327j, -0.75773528 - 0.49766823j],\n",
    "    ]\n",
    ")\n",
    "assert np.allclose(M(10, 3, 5), arr10_3_5)\n",
    "\n",
    "arr7_8_9 = np.array(\n",
    "    [\n",
    "        [0.74170947 + 0.07254868j, -0.34625031 - 0.56983724j],\n",
    "        [0.34625031 - 0.56983724j, 0.74170947 - 0.07254868j],\n",
    "    ]\n",
    ")\n",
    "assert np.allclose(M(7, 8, 9), arr7_8_9)\n"
   ]
  },
  {
   "cell_type": "markdown",
   "metadata": {},
   "source": [
    "### Exercise 3b\n",
    "> By nested loops, iterate over all values of $n_1,n_2,n_3$ such that $n_1+n_2+n_3<30$ to find the indices for which $E(X, M(n_1,n_2,n_3))$ is minimal.\n",
    "\n",
    "Hint: first figure out how to iterate over all values of $n_1,n_2,n_3$ such that $n_1+n_2+n_3=n$, for $n\\geq 0$. Then use a while loop to iterate over all value "
   ]
  },
  {
   "cell_type": "code",
   "execution_count": 191,
   "metadata": {},
   "outputs": [],
   "source": [
    "X = np.array([[0, 1], [1, 0]])\n",
    "\n",
    "# YOUR CODE HERE"
   ]
  },
  {
   "cell_type": "markdown",
   "metadata": {},
   "source": [
    "We see that even the best approximation we found is really bad. We can increase $n$ to get a better approximation, but the quality of the approximation will improve extremely slowly. I invite you to change the matrix $X$ for a different unitary gate, and see how the error changes (hint: it will still be bad).\n",
    "\n",
    "The bottom line is that universal approximations are a very useful theoretical device, but it does not immediately lead to practical approximations, even of very basic operations."
   ]
  }
 ],
 "metadata": {
  "interpreter": {
   "hash": "905ad076dc82bc25817daf5ab949549c654602ab87424fc707f22547c04dce57"
  },
  "kernelspec": {
   "display_name": "Python 3.10.4 ('cirq')",
   "language": "python",
   "name": "python3"
  },
  "language_info": {
   "codemirror_mode": {
    "name": "ipython",
    "version": 3
   },
   "file_extension": ".py",
   "mimetype": "text/x-python",
   "name": "python",
   "nbconvert_exporter": "python",
   "pygments_lexer": "ipython3",
   "version": "3.10.4"
  },
  "orig_nbformat": 4
 },
 "nbformat": 4,
 "nbformat_minor": 2
}
