{
 "cells": [
  {
   "cell_type": "markdown",
   "metadata": {},
   "source": [
    "# Notebook 5: Entropy and quantum information\n",
    "\n",
    "In this notebook we'll have a closer look at entropy and the transmission of quantum information over a quantum circuit. \n",
    "\n",
    "We begin by trying to understand the von Neumann entropy and various related quantities."
   ]
  },
  {
   "cell_type": "code",
   "execution_count": null,
   "metadata": {},
   "outputs": [],
   "source": [
    "import numpy as np\n",
    "\n",
    "# Import cirq, install it if it's not installed.\n",
    "try:\n",
    "    import cirq\n",
    "except ImportError:\n",
    "    print(\"installing cirq...\")\n",
    "    !pip install --quiet cirq\n",
    "    print(\"installed cirq.\")\n",
    "    import cirq"
   ]
  },
  {
   "cell_type": "markdown",
   "metadata": {},
   "source": [
    "## Von Neumann entropy\n",
    "\n",
    "Recall tha the von Neumann entropy of a state $\\rho$ is defined by\n",
    "$$\n",
    "    S(\\rho):= - \\operatorname{tr} \\rho \\log \\rho\n",
    "$$\n",
    "\n",
    "We can implement it in terms of the singular/eigenvalues $\\lambda_i$ of $\\rho$ (remember, $\\rho$ is PSD, so the two notions coincide). This gives the formula\n",
    "$$\n",
    "    S(\\rho) = - \\sum_i \\lambda_i \\log \\lambda_i\n",
    "$$\n",
    "\n",
    "### Exercise 1a\n",
    "> Using `scipy.linalg.eigvalsh` to find the eigenvalues of a Hermitian matrix, define a method `entropy(rho)` that computes the entropy of a density matrix. Use `np.clip` to clip the eigenvalues to a small positive value to avoid computing the logarithm of 0 or a negative number."
   ]
  },
  {
   "cell_type": "code",
   "execution_count": null,
   "metadata": {},
   "outputs": [],
   "source": [
    "import scipy.linalg\n",
    "\n",
    "\n",
    "def entropy(rho):\n",
    "    # YOUR CODE HERE\n",
    "    ...\n",
    "\n",
    "\n",
    "# First test entropy on a pure state on 4 qubits.\n",
    "pure_state = np.random.normal(size=2**4) + 1j * np.random.normal(size=2**4)\n",
    "pure_state /= np.linalg.norm(pure_state)\n",
    "rho_pure = np.outer(pure_state, pure_state.conj())\n",
    "print(entropy(rho_pure))  # should be positive and very close to 0\n",
    "\n",
    "# Next test it on the state I/d\n",
    "rho = np.eye(2**4)\n",
    "rho /= rho.trace()\n",
    "print(entropy(rho))  # should be 4; if ~2.77 use a different logarithm\n"
   ]
  },
  {
   "cell_type": "markdown",
   "metadata": {},
   "source": [
    "We know that the entropy of a state $\\rho$ on $n$ qubits is between $0$ (a pure state) and $d$ (a uniform mixture of $d$ orthogonal pure states). Furthermore a unitary quantum circuit (i.e. without any noise) can never increase the entropy of a state. We know that it is impossible for any quantum operation to _decrease_ the entropy of a state.\n",
    "Logically we therefore expect that the more noisy a circuit becomes, the more it will increase the entropy of a state.\n",
    "\n",
    "Let's put these two notions to the test, by varying the level of noise in a quantum circuit. First we make a circuit, and simulate it in the absence of noise."
   ]
  },
  {
   "cell_type": "code",
   "execution_count": null,
   "metadata": {},
   "outputs": [],
   "source": [
    "qubits = cirq.LineQubit.range(4)\n",
    "circuit = cirq.Circuit()\n",
    "circuit.append([cirq.H(qubits[0]), cirq.H(qubits[2])])\n",
    "circuit.append(\n",
    "    [cirq.CNOT(qubits[0], qubits[1]), cirq.CNOT(qubits[2], qubits[3])]\n",
    ")\n",
    "circuit.append(\n",
    "    [cirq.CNOT(qubits[0], qubits[2]), cirq.CNOT(qubits[1], qubits[3])]\n",
    ")\n",
    "\n",
    "\n",
    "print(circuit)\n",
    "\n",
    "simulator = cirq.Simulator()\n",
    "simulator.simulate(circuit)\n"
   ]
  },
  {
   "cell_type": "markdown",
   "metadata": {},
   "source": [
    "We can now make a noisy version of the circuit by using `circuit.with_noise`. For example, we create a circuit that add a depolarization noise at every moment in the circuit. "
   ]
  },
  {
   "cell_type": "code",
   "execution_count": null,
   "metadata": {},
   "outputs": [],
   "source": [
    "noisy_circuit = circuit.with_noise(cirq.depolarize(0.01))\n",
    "print(noisy_circuit)\n",
    "simulator = cirq.DensityMatrixSimulator()\n",
    "rho = simulator.simulate(noisy_circuit).final_density_matrix\n",
    "cirq.qis.von_neumann_entropy(rho)  # equivalent to entropy(rho)\n"
   ]
  },
  {
   "cell_type": "markdown",
   "metadata": {},
   "source": [
    "### Exercise 1b\n",
    "> Make a noisy version of the quantum circuit, adding a `bit_flip(p)` noise at every moment in the circuit, and simulate the final density matrix of this circuit. Plot the relation between `p` and the entropy of the final density matrix."
   ]
  },
  {
   "cell_type": "code",
   "execution_count": null,
   "metadata": {},
   "outputs": [],
   "source": [
    "import matplotlib.pyplot as plt\n",
    "\n",
    "simulator = cirq.DensityMatrixSimulator()\n",
    "noise_prob = np.linspace(0, 1, 100)\n",
    "entropies = []\n",
    "for p in noise_prob:\n",
    "    # YOUR CODE HERE\n",
    "    ...\n",
    "\n",
    "plt.plot(noise_prob, entropies)\n"
   ]
  },
  {
   "cell_type": "markdown",
   "metadata": {},
   "source": [
    "## Operator sum representation and the Quantum Fano inequality\n",
    "\n",
    "Recall that any quantum operation can be modelled by a unitary operation in a larger system. For example, the bit flip channel with probability $p<0.5$ is equivalent to the following circuit:"
   ]
  },
  {
   "cell_type": "code",
   "execution_count": null,
   "metadata": {},
   "outputs": [],
   "source": [
    "qubit, environment = cirq.LineQubit.range(2)\n",
    "circuit = cirq.Circuit()\n",
    "circuit.append(cirq.H(environment))\n",
    "circuit.append(cirq.CNOT(environment, qubit))\n",
    "circuit\n"
   ]
  },
  {
   "cell_type": "markdown",
   "metadata": {},
   "source": [
    "For a more general bit flip gate, we first define the unitary matrix $A(p)$ by\n",
    "$$\n",
    "    A = \\begin{pmatrix}\\sqrt{1-p}&-\\sqrt{p}\\\\ \\sqrt{p}&\\sqrt{1-p}\\end{pmatrix}\n",
    "$$\n",
    "And then replace $H$ above by $A$. We do this by implementing a custom 1-qubit gate below."
   ]
  },
  {
   "cell_type": "code",
   "execution_count": null,
   "metadata": {},
   "outputs": [],
   "source": [
    "class BitFlipUnitary(cirq.Gate):\n",
    "    def __init__(self, p):\n",
    "        self.p = p\n",
    "        super().__init__()\n",
    "\n",
    "    def _num_qubits_(self):\n",
    "        return 1\n",
    "\n",
    "    def _unitary_(self):\n",
    "        A = np.array(\n",
    "            [[np.sqrt(1 - p), -np.sqrt(p)], [np.sqrt(p), np.sqrt(1 - p)]]\n",
    "        )\n",
    "        return A\n",
    "\n",
    "    def _circuit_diagram_info_(self, args):\n",
    "        return f\"A({self.p})\"\n",
    "\n",
    "\n",
    "p = 0.1\n",
    "circuit = cirq.Circuit()\n",
    "circuit.append(BitFlipUnitary(p)(environment))\n",
    "circuit.append(cirq.CNOT(environment, qubit))\n",
    "circuit\n"
   ]
  },
  {
   "cell_type": "markdown",
   "metadata": {},
   "source": [
    "This unitary representation is useful, because it allows us to extract the _operation elements_ ${E_i}$ of the associated quantum operation $\\mathcal E$ relatively easily. If $|0\\rangle,\\,|1\\rangle$ is the basis of the working qubit above, and $U$ denotes the unitary matrix of the circuit, we have:\n",
    "$$\n",
    "    E_i = \\langle i| U | 0\\rangle\n",
    "$$\n",
    "In our case $U$ is a 4x4 matrix, so how do we obtain the operator elements from it? \n",
    "One trick we can do is to first reshape it to a (2x2)x(2x2) _tensor_ `U_tens`. This has 4 indices, `U_tens[i1,i2,i3,i3]`. The indices `i1` and `i3` correspond to the _first_ qubit, whereas the indices `i2`, `i4` correspond to the second (environment) qubit. Therefore in this context, `E0 = U_tens[:, 0, :, 0]`. That is, we fix the working qubit to the state $|0\\rangle$ in both the input and output of the operator. Similarly `E1 = U_tens[:, 1, :, 0]`."
   ]
  },
  {
   "cell_type": "code",
   "execution_count": null,
   "metadata": {},
   "outputs": [],
   "source": [
    "U = circuit.unitary()\n",
    "U_tens = U.reshape(2, 2, 2, 2)\n",
    "E0 = U_tens[:, 0, :, 0]\n",
    "E1 = U_tens[:, 1, :, 0]\n",
    "E0, E1\n"
   ]
  },
  {
   "cell_type": "markdown",
   "metadata": {},
   "source": [
    "### Exercise 2a\n",
    "> Using the operation elements, we can write \n",
    "$$\n",
    "    \\mathcal E(\\rho) = \\sum_i E_i^\\dagger \\rho E_i\n",
    "$$\n",
    "> Use the formula above to verify that `E0` and `E1` are indeed the operation elements of the `p=0.1` bit-flip channel. Do this by computing the formula above for a random 1-qubit state `rho`. Then compare this to the final density matrix obtained after applying a circuit to `rho` consisting of a single `cirq.bit_flip(0.1)` gate."
   ]
  },
  {
   "cell_type": "code",
   "execution_count": null,
   "metadata": {},
   "outputs": [],
   "source": [
    "def random_state(n):\n",
    "    shape = (2**n, 2**n)\n",
    "    rho = np.random.normal(size=shape) + 1j * np.random.normal(size=shape)\n",
    "    rho = rho @ rho.conj().T\n",
    "    rho = rho / rho.trace()\n",
    "    return rho.astype(np.complex64)\n",
    "\n",
    "\n",
    "rho = random_state(1)\n",
    "\n",
    "# YOUR CODE HERE\n"
   ]
  },
  {
   "cell_type": "markdown",
   "metadata": {},
   "source": [
    "The operator sum representation is very useful for computing quite a few things. For example, it allows us to compute the _entanglement fidelity_ (eq. 9.135):\n",
    "$$\n",
    "    F(\\rho,\\mathcal E) = \\sum_i|\\operatorname{tr}(\\rho E_i)|^2\n",
    "$$\n",
    "This measures how much the operation $\\mathcal E$ changes the entanglement between the qubit of interest and the environment. \n",
    "\n",
    "A second quantity of interest is the _entropy exchange_ of $\\mathcal E$ for the state $\\rho$, which ise defined by eq. (12.111):\n",
    "$$\n",
    "    S(\\rho,\\mathcal E) = -\\operatorname{tr} (W \\log W)\n",
    "$$\n",
    "where $W$ is a matrix with entries\n",
    "$$\n",
    "    W_{ij} = \\operatorname{E_i\\rho E_j^\\dagger}\n",
    "$$\n",
    "\n",
    "### Exercise 2b\n",
    "> Define a functions `entanglement_fidelity` and `entropy_exchange` which respectively compute $F(\\rho,\\mathcal E)$ and $S(\\rho,\\mathcal E)$ for a given state $\\rho$ and quantum operation $\\mathcal E$ given as a list of operator elements."
   ]
  },
  {
   "cell_type": "code",
   "execution_count": null,
   "metadata": {},
   "outputs": [],
   "source": [
    "def entanglement_fidelity(rho, operator_elements):\n",
    "    # YOUR CODE HERE\n",
    "    ...\n",
    "\n",
    "\n",
    "def entropy_exchange(rho, operator_elements):\n",
    "    W_shape = (len(operator_elements), len(operator_elements))\n",
    "    W = np.zeros(W_shape, dtype=complex)\n",
    "    # YOUR CODE HERE\n",
    "    # Form the matrix W using 2 for loops and compute its entropy\n",
    "\n",
    "\n",
    "print(\"rho is pure state |0>\")\n",
    "rho = np.array([[1, 0], [0, 0]])\n",
    "print(entanglement_fidelity(rho, [E0, E1]))  # should be 0.9\n",
    "print(entropy_exchange(rho, [E0, E1]))  # should be around 0.469 = H(0.1)\n",
    "print(-0.1 * np.log2(0.1) - 0.9 * np.log2(0.9))\n",
    "\n",
    "\n",
    "print(\"\\nrho is pure state |0>/sqrt(2) + |1>/sqrt(2)\")\n",
    "# This state is invariant under bit flips, and hence the circuit\n",
    "# leaves this state invariant\n",
    "rho = np.array([[1, 1], [1, 1]]) / 2\n",
    "print(entanglement_fidelity(rho, [E0, E1]))  # should be 1\n",
    "print(entropy_exchange(rho, [E0, E1]))  # should be 0\n"
   ]
  },
  {
   "cell_type": "markdown",
   "metadata": {},
   "source": [
    "Next we consider the Quantum Fano inequality (Theorem 12.9), which states that\n",
    "$$\n",
    "    S(\\rho,\\mathcal E)\\leq H(F(\\rho,\\mathcal E)) + (1-F(\\rho,\\mathcal E))\\log (d^2-1)\n",
    "$$\n",
    "where $H$ is the binary Shannon entropy, and $d$ is the dimension of the system. In our case $d=2$, \n",
    "\n",
    "### Exercise 2c\n",
    "> Plot the left-hand side and right-hand side of the Fano inequality for the bit-flip gate for values of $p$ between 0 and 1. First write a function that returns the operator elements of the bit-flip gate for specified $p$. All of this is done for a fixed random state $\\rho$."
   ]
  },
  {
   "cell_type": "code",
   "execution_count": null,
   "metadata": {},
   "outputs": [],
   "source": [
    "def bit_flip_operator_elements(p):\n",
    "    \"\"\"Returns the operator elements of the BitFlip(p) gate.\"\"\"\n",
    "    # YOUR CODE HERE\n",
    "\n",
    "\n",
    "def binary_shannon_entropy(p):\n",
    "    return -p * np.log2(p) - (1 - p) * np.log2(1 - p)\n",
    "\n",
    "\n",
    "rho = random_state(1)\n",
    "probs = np.linspace(1e-5, 1, 100)\n",
    "lhs = []\n",
    "rhs = []\n",
    "for p in probs:\n",
    "    # YOUR CODE HERE\n",
    "    ...\n",
    "\n",
    "plt.plot(probs, lhs, label=\"Entropy exchange\")\n",
    "plt.plot(probs, rhs, label=\"Quantum Fano bound\")\n",
    "plt.legend()\n"
   ]
  }
 ],
 "metadata": {
  "interpreter": {
   "hash": "905ad076dc82bc25817daf5ab949549c654602ab87424fc707f22547c04dce57"
  },
  "kernelspec": {
   "display_name": "Python 3.10.4 ('cirq')",
   "language": "python",
   "name": "python3"
  },
  "language_info": {
   "codemirror_mode": {
    "name": "ipython",
    "version": 3
   },
   "file_extension": ".py",
   "mimetype": "text/x-python",
   "name": "python",
   "nbconvert_exporter": "python",
   "pygments_lexer": "ipython3",
   "version": "3.10.2"
  },
  "orig_nbformat": 4
 },
 "nbformat": 4,
 "nbformat_minor": 2
}
