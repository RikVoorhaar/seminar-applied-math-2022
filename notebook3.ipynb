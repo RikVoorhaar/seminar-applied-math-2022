{
 "cells": [
  {
   "cell_type": "markdown",
   "metadata": {},
   "source": [
    "# Notebook 3: quantum Fourier transform and applications\n",
    "\n",
    "In this notebook we will implement the quantum Fourier transform and explore some of its applications. "
   ]
  },
  {
   "cell_type": "markdown",
   "metadata": {},
   "source": [
    "## Quantum Fourier transform\n",
    "\n",
    "Recall that the quantum Fourier transform is given by the following formula (eq. (5.4) in Nielsen-Chuang):\n",
    "$$\n",
    "    |j_1,\\dots, j_n\\rangle \\mapsto 2^{-n/2}(|0\\rangle + \\exp(2\\pi i0.j_n)|1\\rangle) (|0\\rangle + \\exp(2\\pi i0.j_{n-1}j_n)|1\\rangle)\\cdots (|0\\rangle + \\exp(2\\pi i0.j_1j_2\\dots j_n)|1\\rangle)\n",
    "$$\n",
    "\n",
    "where $0.k_1k_2k_3$ denotes a number in binary form, i.e. it's $0+k_12^{-1} + k_2 2^{-2}+k_3 2^{-3}$.\n",
    "\n",
    "The quantum Fourier transform can be implemented by a relatively simple circuit, which we will build piece by piece. It only uses two different kind of gates, the Hadamard $H$ gate and the controlled-$R_k$ gate, where \n",
    "$$\n",
    "    R_k = \\begin{pmatrix}\n",
    "        1 & 0 \\\\\n",
    "        0 & e^{2\\pi i/2^k}\n",
    "    \\end{pmatrix}\n",
    "$$\n",
    "\n",
    "Note that $R_k$ can be expressed as a matrix power of the $Z$ gate. Since \n",
    "$$\n",
    "Z = \n",
    "\\begin{pmatrix}\n",
    "1 & 0 \\\\\n",
    "0 & -1\n",
    "\\end{pmatrix}\n",
    "    = \n",
    "\\begin{pmatrix}\n",
    "1 & 0 \\\\\n",
    "0 & e^{\\pi i}\n",
    "\\end{pmatrix}\n",
    "$$\n",
    "\n",
    "We can easily see that $R_k = Z^{-2^{-k+1}}$. We can implement this using the controlled Z power gate, `cirq.CZPowGate` ([see documentation](https://quantumai.google/reference/python/cirq/ops/ZPowGate))"
   ]
  },
  {
   "cell_type": "code",
   "execution_count": null,
   "metadata": {},
   "outputs": [],
   "source": [
    "import numpy as np\n",
    "\n",
    "# Import cirq, install it if it's not installed.\n",
    "try:\n",
    "    import cirq\n",
    "except ImportError:\n",
    "    print(\"installing cirq...\")\n",
    "    !pip install --quiet cirq\n",
    "    print(\"installed cirq.\")\n",
    "    import cirq"
   ]
  },
  {
   "cell_type": "markdown",
   "metadata": {},
   "source": [
    "### Exercise 1a\n",
    "> Implement the main piece of the quantum Fourier transform in a function. This function takes as argument a `circq.Circuit` and a list of qubits. It applies the Hadamard transform to the first qubit, then applies a controlled $R_2$ gate to the first and second qubit, a controlled $R_3$ gate to the first and third qubit, and so on. All the operations are appended to the circuit. \n",
    "\n",
    "For 4 qubits the resulting circuit should look like this:\n",
    "\n",
    "```\n",
    "0: ───H───@────────@─────────@──────────\n",
    "          │        │         │\n",
    "1: ───────@^-0.5───┼─────────┼──────────\n",
    "                   │         │\n",
    "2: ────────────────@^-0.25───┼──────────\n",
    "                             │\n",
    "3: ──────────────────────────@^(-1/8)───\n",
    "```"
   ]
  },
  {
   "cell_type": "code",
   "execution_count": null,
   "metadata": {},
   "outputs": [],
   "source": [
    "def apply_qft_piece(circuit, qubits):\n",
    "    \"\"\"\n",
    "    Apply the Hadamard gate to the first qubit, followed by a sequence of\n",
    "    controlled R_k gates conditional on the other qubits.\n",
    "    \"\"\"\n",
    "\n",
    "    first_qubit = qubits[0]\n",
    "    other_qubits = qubits[1:]\n",
    "\n",
    "    ## YOUR CODE HERE\n",
    "\n",
    "    # Apply hadamard gate to first qubit\n",
    "\n",
    "    # Apply `CZPowGate` to all qubits in a for loop\n",
    "\n",
    "\n",
    "circuit = cirq.Circuit()\n",
    "num_qubits = 4\n",
    "qubits = cirq.LineQubit.range(num_qubits)  # Easy way to get a list of qubits.\n",
    "\n",
    "apply_qft_piece(circuit, qubits)\n",
    "circuit\n"
   ]
  },
  {
   "cell_type": "markdown",
   "metadata": {},
   "source": [
    "### Exercise 1b\n",
    "\n",
    "> Use the function you just implemented to implement the quantum Fourier transform. We first use `apply_qft_piece` to the entire list of qubits, then we apply the same function to all but the first qubit. This repeats until we only apply `apply_qft_piece` to the last qubit. (See figure 5.1 in Nielsen-Chuang). This is finally followed by a permutation reversing the order of all the qubits using `cirq.QubitPermuationGate`.\n",
    "\n",
    "_Hint: `cirq.QubitPermuationGate` works on a sequence of arguments and not directly on a list. For example, we can do `G = cirq.QubitPermutationGate((0,2,1))` to swap qubits 1 and 2, leaving 0 untouched. To apply it to 3 qubits we should do `G(qubit0,qubit1,qubit2)`, and not `G([qubit0,qubit1,qubit2])`. This is a problem if we just have a list `qubits` of arbitrary length. Fortunately, Python allows 'unpacking' a list using `*`, which will unpack the list into individual arguments. That is, we can call `G(*qubits)`, or `G(*[qubit0,qubit1,qubit2])`._\n",
    "\n",
    "When applied to 4 qubits, the circuit should look like this:\n",
    "\n",
    "```\n",
    "                   ┌────────┐   ┌──────────────┐   ┌────────┐\n",
    "0: ───H───@─────────@────────────@───────────────────────────────────────────[0>3]───\n",
    "          │         │            │                                           │\n",
    "1: ───────@^-0.5────┼──────H─────┼───────@──────────@────────────────────────[1>2]───\n",
    "                    │            │       │          │                        │\n",
    "2: ─────────────────@^-0.25──────┼───────@^-0.5─────┼──────H────@────────────[2>1]───\n",
    "                                 │                  │           │            │\n",
    "3: ──────────────────────────────@^(-1/8)───────────@^-0.25─────@^-0.5───H───[3>0]───\n",
    "                   └────────┘   └──────────────┘   └────────┘\n",
    "```"
   ]
  },
  {
   "cell_type": "code",
   "execution_count": null,
   "metadata": {},
   "outputs": [],
   "source": [
    "def apply_qft(circuit, qubits):\n",
    "    num_qubits = len(qubits)\n",
    "    # YOUR CODE HERE\n",
    "\n",
    "    # Use `apply_qft_piece` in a for loop\n",
    "\n",
    "    # Apply the `QubitPermutationGate`\n",
    "\n",
    "\n",
    "circuit = cirq.Circuit()\n",
    "num_qubits = 4\n",
    "qubits = cirq.LineQubit.range(num_qubits)\n",
    "\n",
    "apply_qft(circuit, qubits)\n",
    "circuit\n"
   ]
  },
  {
   "cell_type": "markdown",
   "metadata": {},
   "source": [
    "The quantum Fourier transform essentially acts by applying the discrete Fourier transform to the coefficients of the qubits. We can use this fact to verify that the circuit you implemented above is correct. The difference between the two methods should be on the order of single precision machine epsilon (~1e-8). If it is bigger, you probably did something wrong, and you should check your implementation carefully."
   ]
  },
  {
   "cell_type": "code",
   "execution_count": null,
   "metadata": {},
   "outputs": [],
   "source": [
    "# Create quantum circuit and simulator\n",
    "num_qubits = 4\n",
    "circuit = cirq.Circuit()\n",
    "qubits = cirq.LineQubit.range(num_qubits)\n",
    "apply_qft(circuit, qubits)\n",
    "simulator = cirq.Simulator()\n",
    "\n",
    "# Use random norm-1 vector\n",
    "init_state = np.random.normal(size=2**num_qubits)\n",
    "init_state /= np.linalg.norm(init_state)\n",
    "\n",
    "# Quantum version\n",
    "result = simulator.simulate(circuit, initial_state=init_state)\n",
    "quantum = result.state_vector()\n",
    "\n",
    "# Classical version\n",
    "# norm='ortho' to make FFT unitary\n",
    "classical = np.fft.fft(init_state, norm=\"ortho\")\n",
    "\n",
    "diff = quantum - classical\n",
    "error = np.linalg.norm(diff)\n",
    "print(\"Difference between classical DFT and your circuit:\", error)\n",
    "\n",
    "if error > 1e-6:\n",
    "    print(\"Your circuit is not working correctly. Here's the difference:\")\n",
    "    print(diff)\n",
    "\n",
    "    print(\"Here are the quantum and classical results respectively:\")\n",
    "    print(quantum)\n",
    "    print(classical)\n",
    "else:\n",
    "    print(\"Looks like your circuit works great!\")\n"
   ]
  },
  {
   "cell_type": "markdown",
   "metadata": {},
   "source": [
    "In fact, we can also just convert the circuit to a unitary matrix, and compare this to the unitary matrix of the classical discrete fourier transform. The difference between these two should also be small."
   ]
  },
  {
   "cell_type": "code",
   "execution_count": null,
   "metadata": {},
   "outputs": [],
   "source": [
    "np.linalg.norm(\n",
    "    circuit.unitary() - np.fft.fft(np.eye(2**num_qubits), norm=\"ortho\")\n",
    ")"
   ]
  },
  {
   "cell_type": "markdown",
   "metadata": {},
   "source": [
    "## Phase estimation\n",
    "\n",
    "The phase estimation quantum algorithm can be used to find the eigenvalue $\\exp(2\\pi i \\varphi)$ associated to an eigenvector $|u\\rangle$ of a unitary operator $U$. Here $U$ is treated like a black box, and we assume we have some way to prepare the state $|u\\rangle$, without knowing the phase $\\varphi$.\n",
    "\n",
    "This may seem like a strange requirement, but as we have seen it is an essential ingredient in certain algorithms, like order finding / integer factoring (and hence Shor's algorithm which can break RSA cryptography in theory). \n",
    "\n",
    "\n",
    "We start by generating a random unitary matrix $U$ and record one of its eigenvectors and eigenvalues. \n",
    "_If you're interested in random matrices, the code below generates unitary matrices uniformly random with respect to the Haar measure on_ $U(2^n)$."
   ]
  },
  {
   "cell_type": "code",
   "execution_count": null,
   "metadata": {},
   "outputs": [],
   "source": [
    "def random_unitary(input_size, seed=None):\n",
    "    \"\"\"Create a random unitary matrix of size `2**input_size`\"\"\"\n",
    "    if seed is not None:\n",
    "        np.random.seed(seed)\n",
    "    U = np.random.normal(\n",
    "        size=(2**input_size, 2**input_size)\n",
    "    ) + 1j * np.random.normal(size=(2**input_size, 2**input_size))\n",
    "    U, R = np.linalg.qr(U / np.sqrt(2))\n",
    "    U = U @ np.diag(np.sign(np.diag(R)))\n",
    "    return U\n",
    "\n",
    "\n",
    "input_size = 3\n",
    "U = random_unitary(input_size)\n",
    "eigvals, eigvects = np.linalg.eig(U)\n",
    "u = eigvects[0]\n",
    "phi = np.angle(eigvals[0]) / (2*np.pi)\n",
    "print(\"phi:\", phi)\n",
    "print(\"u:\", u)\n"
   ]
  },
  {
   "cell_type": "markdown",
   "metadata": {},
   "source": [
    "Now the phase estimation algorithm works with two _registers_. The first register are _working qubits_, and we'll manipulate them based on the input to the second register. The second register will contain the eigenvector $u$. \n",
    "\n",
    "The first step is to apply a Hadamard gate to all the qubits in the first register. The second step is to a controlled $U^{2^j}$ gate to each of the qubits in the first register. Then finally we apply an inverse quantum Fourier transform to the qubits in the first register. Please look at figure 5.2 in Nielsen-Chuang for a visual explanation of the algorithm.\n",
    "\n",
    "Rather than plugging in an initial state when simulating the circuit, it will be easier to just use the standard state `|0...0>` as input. However, this means that we need to _prepare_ the second register to the state `|u>`. Fortunately, in this case $u$ is the first eigenvector of the matrix $U$. If $V$ is the matrix of eigenvectors of $U$, then $|u\\rangle = V|0\\rangle$. Since $V$ is unitary, we can use it as a quantum gate to prepare the second register.\n",
    "\n",
    "### Exericse 2\n",
    "> Implement the phase estimation algorithm. As input you should take the unitary matrix $U$, a list of qubits of the first register, and a list of qubits of the second register. The function should add all the required operations to the circuit. Pay attention which qubit is the control qubit for the controlled $U^{2^j}$ operations. You might might need the same 'list unpacking' trick as in exercise 1b.\n",
    "\n",
    "Rather than implementing the inverse Fourier transform like in Exercise 1, we'll cheat an directly implement it based on its matrix representation. This only works for a small amount of qubits; otherwise this would be too expensive to do. \n",
    "\n",
    "\n",
    "The final result should look like this:\n",
    "```\n",
    "0: ───H──────────────────────────────────────────────────────────────────@──────────────ift[1]───M───\n",
    "                                                                         │              │\n",
    "1: ───H───────────────────────────────────────────────────@──────────────┼──────────────ift[2]───M───\n",
    "                                                          │              │              │\n",
    "2: ───H────────────────────────────────────@──────────────┼──────────────┼──────────────ift[3]───M───\n",
    "                                           │              │              │              │\n",
    "3: ───H─────────────────────@──────────────┼──────────────┼──────────────┼──────────────ift[4]───M───\n",
    "                            │              │              │              │              │\n",
    "4: ───H──────@──────────────┼──────────────┼──────────────┼──────────────┼──────────────ift[5]───M───\n",
    "             │              │              │              │              │\n",
    "5: ───u[1]───U**(2**0)[1]───U**(2**1)[1]───U**(2**2)[1]───U**(2**3)[1]───U**(2**4)[1]────────────────\n",
    "      │      │              │              │              │              │\n",
    "6: ───u[2]───U**(2**0)[2]───U**(2**1)[2]───U**(2**2)[2]───U**(2**3)[2]───U**(2**4)[2]────────────────\n",
    "      │      │              │              │              │              │\n",
    "7: ───u[3]───U**(2**0)[3]───U**(2**1)[3]───U**(2**2)[3]───U**(2**3)[3]───U**(2**4)[3]────────────────\n",
    "```"
   ]
  },
  {
   "cell_type": "code",
   "execution_count": null,
   "metadata": {},
   "outputs": [],
   "source": [
    "register_size = 5\n",
    "\n",
    "# Gate representing the inverse Fourier transform.\n",
    "ift_gate = cirq.MatrixGate(\n",
    "    (np.fft.fft(np.eye(2**register_size), norm=\"ortho\")), name=\"ift\"\n",
    ")\n",
    "\n",
    "# Gate representing eigenvectors of U\n",
    "prep_gate = cirq.MatrixGate(eigvects, name=\"u\")\n",
    "\n",
    "\n",
    "def CU_pow_gate(power):\n",
    "    \"\"\"Create a controlled U**(2**power) gate.\"\"\"\n",
    "    U_pow = np.linalg.matrix_power(U, 2**power)\n",
    "    U_pow_gate = cirq.MatrixGate(U_pow, name=f\"U**(2**{power})\")\n",
    "    CU_gate = cirq.ControlledGate(U_pow_gate, num_controls=1)\n",
    "    return CU_gate\n",
    "\n",
    "\n",
    "def phase_estimation(circuit, register1, register2):\n",
    "    # YOUR CODE HERE\n",
    "\n",
    "    # Apply hadamard gates to first register\n",
    "\n",
    "    # Prepare second register to state |u>\n",
    "\n",
    "    # Apply the conditional U**(2**j) gates\n",
    "\n",
    "    # Apply the inverse Fourier transform to the first register\n",
    "\n",
    "    # Measure first register\n",
    "\n",
    "    ...\n",
    "\n",
    "\n",
    "register1 = cirq.LineQubit.range(register_size)\n",
    "register2 = cirq.LineQubit.range(register_size, register_size + input_size)\n",
    "phase_estimation_circuit = cirq.Circuit()\n",
    "\n",
    "phase_estimation(phase_estimation_circuit, register1, register2)\n",
    "phase_estimation_circuit\n"
   ]
  },
  {
   "cell_type": "markdown",
   "metadata": {},
   "source": [
    "Now we can do a simulation to check the circuit works. We should get an estimated phase close to the target phase $\\varphi$. \n",
    "\n",
    "To get a better approximation, all we need to do is to increase the size of the first register."
   ]
  },
  {
   "cell_type": "code",
   "execution_count": null,
   "metadata": {},
   "outputs": [],
   "source": [
    "simulator = cirq.Simulator()\n",
    "result = simulator.run(phase_estimation_circuit)\n",
    "result = np.array(result.data).reshape(-1)\n",
    "estimated_phase = np.dot(2.0**(-np.arange(register_size)-1), result)\n",
    "\n",
    "print(\"True phase:\",np.mod(phi,1))\n",
    "print(\"Estimated phase:\", estimated_phase)"
   ]
  }
 ],
 "metadata": {
  "interpreter": {
   "hash": "905ad076dc82bc25817daf5ab949549c654602ab87424fc707f22547c04dce57"
  },
  "kernelspec": {
   "display_name": "Python 3.10.4 ('cirq')",
   "language": "python",
   "name": "python3"
  },
  "language_info": {
   "codemirror_mode": {
    "name": "ipython",
    "version": 3
   },
   "file_extension": ".py",
   "mimetype": "text/x-python",
   "name": "python",
   "nbconvert_exporter": "python",
   "pygments_lexer": "ipython3",
   "version": "3.10.2"
  },
  "orig_nbformat": 4
 },
 "nbformat": 4,
 "nbformat_minor": 2
}
